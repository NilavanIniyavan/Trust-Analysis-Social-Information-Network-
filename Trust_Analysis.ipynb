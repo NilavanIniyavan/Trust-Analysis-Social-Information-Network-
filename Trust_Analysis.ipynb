{
  "nbformat": 4,
  "nbformat_minor": 0,
  "metadata": {
    "colab": {
      "provenance": []
    },
    "kernelspec": {
      "name": "python3",
      "display_name": "Python 3"
    },
    "language_info": {
      "name": "python"
    },
    "gpuClass": "standard"
  },
  "cells": [
    {
      "cell_type": "code",
      "execution_count": null,
      "metadata": {
        "id": "oPdUZo6AjiLC"
      },
      "outputs": [],
      "source": [
        "import networkx as nx\n",
        "import pandas as pd\n",
        "import pylab\n",
        "import matplotlib.pyplot as plt\n",
        "import matplotlib.cm as cm\n",
        "from community import community_louvain\n",
        "import numpy as np\n",
        "import community\n",
        "import random"
      ]
    },
    {
      "cell_type": "markdown",
      "source": [
        "**Analysis of Epinions social network**\n",
        "\n"
      ],
      "metadata": {
        "id": "PuBgN02kjvv3"
      }
    },
    {
      "cell_type": "markdown",
      "source": [
        "**Creating the graph**\n"
      ],
      "metadata": {
        "id": "FcoHdGD-j5PO"
      }
    },
    {
      "cell_type": "code",
      "source": [
        "from google.colab import drive\n",
        "drive.mount('/content/gdrive')"
      ],
      "metadata": {
        "colab": {
          "base_uri": "https://localhost:8080/"
        },
        "id": "dA6WxlmElWtz",
        "outputId": "91ba8105-1f4f-4ce4-8f93-3f0c0c0ae3a1"
      },
      "execution_count": null,
      "outputs": [
        {
          "output_type": "stream",
          "name": "stdout",
          "text": [
            "Drive already mounted at /content/gdrive; to attempt to forcibly remount, call drive.mount(\"/content/gdrive\", force_remount=True).\n"
          ]
        }
      ]
    },
    {
      "cell_type": "code",
      "source": [
        "graph = nx.DiGraph()\n",
        "epi_csv = pd.read_csv(r'gdrive/My Drive/soc-sign-epinions.txt',delimiter='\\t')\n",
        "epi_csv.columns = ['From','To','Weight']\n",
        "# We check if the file has loaded\n",
        "epi_csv.head()"
      ],
      "metadata": {
        "id": "hWi2PLdmjqlG",
        "colab": {
          "base_uri": "https://localhost:8080/",
          "height": 206
        },
        "outputId": "84204001-6348-4902-acf3-5f43e87f1b38"
      },
      "execution_count": null,
      "outputs": [
        {
          "output_type": "execute_result",
          "data": {
            "text/plain": [
              "   From      To  Weight\n",
              "0     0       1      -1\n",
              "1     1  128552      -1\n",
              "2     2       3       1\n",
              "3     4       5      -1\n",
              "4     4     155      -1"
            ],
            "text/html": [
              "\n",
              "  <div id=\"df-f47c6a4a-5643-4f28-ac87-90855aa1612b\">\n",
              "    <div class=\"colab-df-container\">\n",
              "      <div>\n",
              "<style scoped>\n",
              "    .dataframe tbody tr th:only-of-type {\n",
              "        vertical-align: middle;\n",
              "    }\n",
              "\n",
              "    .dataframe tbody tr th {\n",
              "        vertical-align: top;\n",
              "    }\n",
              "\n",
              "    .dataframe thead th {\n",
              "        text-align: right;\n",
              "    }\n",
              "</style>\n",
              "<table border=\"1\" class=\"dataframe\">\n",
              "  <thead>\n",
              "    <tr style=\"text-align: right;\">\n",
              "      <th></th>\n",
              "      <th>From</th>\n",
              "      <th>To</th>\n",
              "      <th>Weight</th>\n",
              "    </tr>\n",
              "  </thead>\n",
              "  <tbody>\n",
              "    <tr>\n",
              "      <th>0</th>\n",
              "      <td>0</td>\n",
              "      <td>1</td>\n",
              "      <td>-1</td>\n",
              "    </tr>\n",
              "    <tr>\n",
              "      <th>1</th>\n",
              "      <td>1</td>\n",
              "      <td>128552</td>\n",
              "      <td>-1</td>\n",
              "    </tr>\n",
              "    <tr>\n",
              "      <th>2</th>\n",
              "      <td>2</td>\n",
              "      <td>3</td>\n",
              "      <td>1</td>\n",
              "    </tr>\n",
              "    <tr>\n",
              "      <th>3</th>\n",
              "      <td>4</td>\n",
              "      <td>5</td>\n",
              "      <td>-1</td>\n",
              "    </tr>\n",
              "    <tr>\n",
              "      <th>4</th>\n",
              "      <td>4</td>\n",
              "      <td>155</td>\n",
              "      <td>-1</td>\n",
              "    </tr>\n",
              "  </tbody>\n",
              "</table>\n",
              "</div>\n",
              "      <button class=\"colab-df-convert\" onclick=\"convertToInteractive('df-f47c6a4a-5643-4f28-ac87-90855aa1612b')\"\n",
              "              title=\"Convert this dataframe to an interactive table.\"\n",
              "              style=\"display:none;\">\n",
              "        \n",
              "  <svg xmlns=\"http://www.w3.org/2000/svg\" height=\"24px\"viewBox=\"0 0 24 24\"\n",
              "       width=\"24px\">\n",
              "    <path d=\"M0 0h24v24H0V0z\" fill=\"none\"/>\n",
              "    <path d=\"M18.56 5.44l.94 2.06.94-2.06 2.06-.94-2.06-.94-.94-2.06-.94 2.06-2.06.94zm-11 1L8.5 8.5l.94-2.06 2.06-.94-2.06-.94L8.5 2.5l-.94 2.06-2.06.94zm10 10l.94 2.06.94-2.06 2.06-.94-2.06-.94-.94-2.06-.94 2.06-2.06.94z\"/><path d=\"M17.41 7.96l-1.37-1.37c-.4-.4-.92-.59-1.43-.59-.52 0-1.04.2-1.43.59L10.3 9.45l-7.72 7.72c-.78.78-.78 2.05 0 2.83L4 21.41c.39.39.9.59 1.41.59.51 0 1.02-.2 1.41-.59l7.78-7.78 2.81-2.81c.8-.78.8-2.07 0-2.86zM5.41 20L4 18.59l7.72-7.72 1.47 1.35L5.41 20z\"/>\n",
              "  </svg>\n",
              "      </button>\n",
              "      \n",
              "  <style>\n",
              "    .colab-df-container {\n",
              "      display:flex;\n",
              "      flex-wrap:wrap;\n",
              "      gap: 12px;\n",
              "    }\n",
              "\n",
              "    .colab-df-convert {\n",
              "      background-color: #E8F0FE;\n",
              "      border: none;\n",
              "      border-radius: 50%;\n",
              "      cursor: pointer;\n",
              "      display: none;\n",
              "      fill: #1967D2;\n",
              "      height: 32px;\n",
              "      padding: 0 0 0 0;\n",
              "      width: 32px;\n",
              "    }\n",
              "\n",
              "    .colab-df-convert:hover {\n",
              "      background-color: #E2EBFA;\n",
              "      box-shadow: 0px 1px 2px rgba(60, 64, 67, 0.3), 0px 1px 3px 1px rgba(60, 64, 67, 0.15);\n",
              "      fill: #174EA6;\n",
              "    }\n",
              "\n",
              "    [theme=dark] .colab-df-convert {\n",
              "      background-color: #3B4455;\n",
              "      fill: #D2E3FC;\n",
              "    }\n",
              "\n",
              "    [theme=dark] .colab-df-convert:hover {\n",
              "      background-color: #434B5C;\n",
              "      box-shadow: 0px 1px 3px 1px rgba(0, 0, 0, 0.15);\n",
              "      filter: drop-shadow(0px 1px 2px rgba(0, 0, 0, 0.3));\n",
              "      fill: #FFFFFF;\n",
              "    }\n",
              "  </style>\n",
              "\n",
              "      <script>\n",
              "        const buttonEl =\n",
              "          document.querySelector('#df-f47c6a4a-5643-4f28-ac87-90855aa1612b button.colab-df-convert');\n",
              "        buttonEl.style.display =\n",
              "          google.colab.kernel.accessAllowed ? 'block' : 'none';\n",
              "\n",
              "        async function convertToInteractive(key) {\n",
              "          const element = document.querySelector('#df-f47c6a4a-5643-4f28-ac87-90855aa1612b');\n",
              "          const dataTable =\n",
              "            await google.colab.kernel.invokeFunction('convertToInteractive',\n",
              "                                                     [key], {});\n",
              "          if (!dataTable) return;\n",
              "\n",
              "          const docLinkHtml = 'Like what you see? Visit the ' +\n",
              "            '<a target=\"_blank\" href=https://colab.research.google.com/notebooks/data_table.ipynb>data table notebook</a>'\n",
              "            + ' to learn more about interactive tables.';\n",
              "          element.innerHTML = '';\n",
              "          dataTable['output_type'] = 'display_data';\n",
              "          await google.colab.output.renderOutput(dataTable, element);\n",
              "          const docLink = document.createElement('div');\n",
              "          docLink.innerHTML = docLinkHtml;\n",
              "          element.appendChild(docLink);\n",
              "        }\n",
              "      </script>\n",
              "    </div>\n",
              "  </div>\n",
              "  "
            ]
          },
          "metadata": {},
          "execution_count": 40
        }
      ]
    },
    {
      "cell_type": "code",
      "source": [
        "print('Row count is:',len(epi_csv.axes[0]))\n",
        "print('Column count is:',len(epi_csv.axes[1]))"
      ],
      "metadata": {
        "colab": {
          "base_uri": "https://localhost:8080/"
        },
        "id": "m7KapB7nh1Cg",
        "outputId": "84179acf-fb74-4700-9974-3403807f3f7a"
      },
      "execution_count": null,
      "outputs": [
        {
          "output_type": "stream",
          "name": "stdout",
          "text": [
            "Row count is: 841372\n",
            "Column count is: 3\n"
          ]
        }
      ]
    },
    {
      "cell_type": "code",
      "source": [
        "# Adding the edges.\n",
        "for index,row in epi_csv.iterrows():\n",
        "    graph.add_edges_from([(row[0],row[1])],weight = row[2])"
      ],
      "metadata": {
        "id": "Zth9Ux6Ug5Kh"
      },
      "execution_count": null,
      "outputs": []
    },
    {
      "cell_type": "code",
      "source": [
        "nx.draw(graph)"
      ],
      "metadata": {
        "id": "G8RZshVf1q-g",
        "colab": {
          "base_uri": "https://localhost:8080/",
          "height": 840
        },
        "outputId": "22f2c0a2-5fc0-4083-a3e6-e11d5856008f"
      },
      "execution_count": null,
      "outputs": [
        {
          "output_type": "error",
          "ename": "KeyboardInterrupt",
          "evalue": "ignored",
          "traceback": [
            "\u001b[0;31m---------------------------------------------------------------------------\u001b[0m",
            "\u001b[0;31mKeyboardInterrupt\u001b[0m                         Traceback (most recent call last)",
            "\u001b[0;32m<ipython-input-52-77dcce954f96>\u001b[0m in \u001b[0;36m<cell line: 1>\u001b[0;34m()\u001b[0m\n\u001b[0;32m----> 1\u001b[0;31m \u001b[0mnx\u001b[0m\u001b[0;34m.\u001b[0m\u001b[0mdraw\u001b[0m\u001b[0;34m(\u001b[0m\u001b[0mgraph\u001b[0m\u001b[0;34m)\u001b[0m\u001b[0;34m\u001b[0m\u001b[0;34m\u001b[0m\u001b[0m\n\u001b[0m",
            "\u001b[0;32m/usr/local/lib/python3.9/dist-packages/networkx/drawing/nx_pylab.py\u001b[0m in \u001b[0;36mdraw\u001b[0;34m(G, pos, ax, **kwds)\u001b[0m\n\u001b[1;32m    119\u001b[0m         \u001b[0mkwds\u001b[0m\u001b[0;34m[\u001b[0m\u001b[0;34m\"with_labels\"\u001b[0m\u001b[0;34m]\u001b[0m \u001b[0;34m=\u001b[0m \u001b[0;34m\"labels\"\u001b[0m \u001b[0;32min\u001b[0m \u001b[0mkwds\u001b[0m\u001b[0;34m\u001b[0m\u001b[0;34m\u001b[0m\u001b[0m\n\u001b[1;32m    120\u001b[0m \u001b[0;34m\u001b[0m\u001b[0m\n\u001b[0;32m--> 121\u001b[0;31m     \u001b[0mdraw_networkx\u001b[0m\u001b[0;34m(\u001b[0m\u001b[0mG\u001b[0m\u001b[0;34m,\u001b[0m \u001b[0mpos\u001b[0m\u001b[0;34m=\u001b[0m\u001b[0mpos\u001b[0m\u001b[0;34m,\u001b[0m \u001b[0max\u001b[0m\u001b[0;34m=\u001b[0m\u001b[0max\u001b[0m\u001b[0;34m,\u001b[0m \u001b[0;34m**\u001b[0m\u001b[0mkwds\u001b[0m\u001b[0;34m)\u001b[0m\u001b[0;34m\u001b[0m\u001b[0;34m\u001b[0m\u001b[0m\n\u001b[0m\u001b[1;32m    122\u001b[0m     \u001b[0max\u001b[0m\u001b[0;34m.\u001b[0m\u001b[0mset_axis_off\u001b[0m\u001b[0;34m(\u001b[0m\u001b[0;34m)\u001b[0m\u001b[0;34m\u001b[0m\u001b[0;34m\u001b[0m\u001b[0m\n\u001b[1;32m    123\u001b[0m     \u001b[0mplt\u001b[0m\u001b[0;34m.\u001b[0m\u001b[0mdraw_if_interactive\u001b[0m\u001b[0;34m(\u001b[0m\u001b[0;34m)\u001b[0m\u001b[0;34m\u001b[0m\u001b[0;34m\u001b[0m\u001b[0m\n",
            "\u001b[0;32m/usr/local/lib/python3.9/dist-packages/networkx/drawing/nx_pylab.py\u001b[0m in \u001b[0;36mdraw_networkx\u001b[0;34m(G, pos, arrows, with_labels, **kwds)\u001b[0m\n\u001b[1;32m    299\u001b[0m \u001b[0;34m\u001b[0m\u001b[0m\n\u001b[1;32m    300\u001b[0m     \u001b[0;32mif\u001b[0m \u001b[0mpos\u001b[0m \u001b[0;32mis\u001b[0m \u001b[0;32mNone\u001b[0m\u001b[0;34m:\u001b[0m\u001b[0;34m\u001b[0m\u001b[0;34m\u001b[0m\u001b[0m\n\u001b[0;32m--> 301\u001b[0;31m         \u001b[0mpos\u001b[0m \u001b[0;34m=\u001b[0m \u001b[0mnx\u001b[0m\u001b[0;34m.\u001b[0m\u001b[0mdrawing\u001b[0m\u001b[0;34m.\u001b[0m\u001b[0mspring_layout\u001b[0m\u001b[0;34m(\u001b[0m\u001b[0mG\u001b[0m\u001b[0;34m)\u001b[0m  \u001b[0;31m# default to spring layout\u001b[0m\u001b[0;34m\u001b[0m\u001b[0;34m\u001b[0m\u001b[0m\n\u001b[0m\u001b[1;32m    302\u001b[0m \u001b[0;34m\u001b[0m\u001b[0m\n\u001b[1;32m    303\u001b[0m     \u001b[0mdraw_networkx_nodes\u001b[0m\u001b[0;34m(\u001b[0m\u001b[0mG\u001b[0m\u001b[0;34m,\u001b[0m \u001b[0mpos\u001b[0m\u001b[0;34m,\u001b[0m \u001b[0;34m**\u001b[0m\u001b[0mnode_kwds\u001b[0m\u001b[0;34m)\u001b[0m\u001b[0;34m\u001b[0m\u001b[0;34m\u001b[0m\u001b[0m\n",
            "\u001b[0;32m/usr/local/lib/python3.9/dist-packages/networkx/utils/decorators.py\u001b[0m in \u001b[0;36margmap_spring_layout_1\u001b[0;34m(G, k, pos, fixed, iterations, threshold, weight, scale, center, dim, seed)\u001b[0m\n\u001b[1;32m      2\u001b[0m \u001b[0;32mimport\u001b[0m \u001b[0mcollections\u001b[0m\u001b[0;34m\u001b[0m\u001b[0;34m\u001b[0m\u001b[0m\n\u001b[1;32m      3\u001b[0m \u001b[0;32mimport\u001b[0m \u001b[0mgzip\u001b[0m\u001b[0;34m\u001b[0m\u001b[0;34m\u001b[0m\u001b[0m\n\u001b[0;32m----> 4\u001b[0;31m \u001b[0;32mimport\u001b[0m \u001b[0minspect\u001b[0m\u001b[0;34m\u001b[0m\u001b[0;34m\u001b[0m\u001b[0m\n\u001b[0m\u001b[1;32m      5\u001b[0m \u001b[0;32mimport\u001b[0m \u001b[0mitertools\u001b[0m\u001b[0;34m\u001b[0m\u001b[0;34m\u001b[0m\u001b[0m\n\u001b[1;32m      6\u001b[0m \u001b[0;32mimport\u001b[0m \u001b[0mre\u001b[0m\u001b[0;34m\u001b[0m\u001b[0;34m\u001b[0m\u001b[0m\n",
            "\u001b[0;32m/usr/local/lib/python3.9/dist-packages/networkx/drawing/layout.py\u001b[0m in \u001b[0;36mspring_layout\u001b[0;34m(G, k, pos, fixed, iterations, threshold, weight, scale, center, dim, seed)\u001b[0m\n\u001b[1;32m    480\u001b[0m             \u001b[0mnnodes\u001b[0m\u001b[0;34m,\u001b[0m \u001b[0m_\u001b[0m \u001b[0;34m=\u001b[0m \u001b[0mA\u001b[0m\u001b[0;34m.\u001b[0m\u001b[0mshape\u001b[0m\u001b[0;34m\u001b[0m\u001b[0;34m\u001b[0m\u001b[0m\n\u001b[1;32m    481\u001b[0m             \u001b[0mk\u001b[0m \u001b[0;34m=\u001b[0m \u001b[0mdom_size\u001b[0m \u001b[0;34m/\u001b[0m \u001b[0mnp\u001b[0m\u001b[0;34m.\u001b[0m\u001b[0msqrt\u001b[0m\u001b[0;34m(\u001b[0m\u001b[0mnnodes\u001b[0m\u001b[0;34m)\u001b[0m\u001b[0;34m\u001b[0m\u001b[0;34m\u001b[0m\u001b[0m\n\u001b[0;32m--> 482\u001b[0;31m         pos = _sparse_fruchterman_reingold(\n\u001b[0m\u001b[1;32m    483\u001b[0m             \u001b[0mA\u001b[0m\u001b[0;34m,\u001b[0m \u001b[0mk\u001b[0m\u001b[0;34m,\u001b[0m \u001b[0mpos_arr\u001b[0m\u001b[0;34m,\u001b[0m \u001b[0mfixed\u001b[0m\u001b[0;34m,\u001b[0m \u001b[0miterations\u001b[0m\u001b[0;34m,\u001b[0m \u001b[0mthreshold\u001b[0m\u001b[0;34m,\u001b[0m \u001b[0mdim\u001b[0m\u001b[0;34m,\u001b[0m \u001b[0mseed\u001b[0m\u001b[0;34m\u001b[0m\u001b[0;34m\u001b[0m\u001b[0m\n\u001b[1;32m    484\u001b[0m         )\n",
            "\u001b[0;32m/usr/local/lib/python3.9/dist-packages/networkx/utils/decorators.py\u001b[0m in \u001b[0;36margmap__sparse_fruchterman_reingold_5\u001b[0;34m(A, k, pos, fixed, iterations, threshold, dim, seed)\u001b[0m\n\u001b[1;32m      2\u001b[0m \u001b[0;32mimport\u001b[0m \u001b[0mcollections\u001b[0m\u001b[0;34m\u001b[0m\u001b[0;34m\u001b[0m\u001b[0m\n\u001b[1;32m      3\u001b[0m \u001b[0;32mimport\u001b[0m \u001b[0mgzip\u001b[0m\u001b[0;34m\u001b[0m\u001b[0;34m\u001b[0m\u001b[0m\n\u001b[0;32m----> 4\u001b[0;31m \u001b[0;32mimport\u001b[0m \u001b[0minspect\u001b[0m\u001b[0;34m\u001b[0m\u001b[0;34m\u001b[0m\u001b[0m\n\u001b[0m\u001b[1;32m      5\u001b[0m \u001b[0;32mimport\u001b[0m \u001b[0mitertools\u001b[0m\u001b[0;34m\u001b[0m\u001b[0;34m\u001b[0m\u001b[0m\n\u001b[1;32m      6\u001b[0m \u001b[0;32mimport\u001b[0m \u001b[0mre\u001b[0m\u001b[0;34m\u001b[0m\u001b[0;34m\u001b[0m\u001b[0m\n",
            "\u001b[0;32m/usr/local/lib/python3.9/dist-packages/networkx/drawing/layout.py\u001b[0m in \u001b[0;36m_sparse_fruchterman_reingold\u001b[0;34m(A, k, pos, fixed, iterations, threshold, dim, seed)\u001b[0m\n\u001b[1;32m    616\u001b[0m             \u001b[0mdelta\u001b[0m \u001b[0;34m=\u001b[0m \u001b[0;34m(\u001b[0m\u001b[0mpos\u001b[0m\u001b[0;34m[\u001b[0m\u001b[0mi\u001b[0m\u001b[0;34m]\u001b[0m \u001b[0;34m-\u001b[0m \u001b[0mpos\u001b[0m\u001b[0;34m)\u001b[0m\u001b[0;34m.\u001b[0m\u001b[0mT\u001b[0m\u001b[0;34m\u001b[0m\u001b[0;34m\u001b[0m\u001b[0m\n\u001b[1;32m    617\u001b[0m             \u001b[0;31m# distance between points\u001b[0m\u001b[0;34m\u001b[0m\u001b[0;34m\u001b[0m\u001b[0m\n\u001b[0;32m--> 618\u001b[0;31m             \u001b[0mdistance\u001b[0m \u001b[0;34m=\u001b[0m \u001b[0mnp\u001b[0m\u001b[0;34m.\u001b[0m\u001b[0msqrt\u001b[0m\u001b[0;34m(\u001b[0m\u001b[0;34m(\u001b[0m\u001b[0mdelta\u001b[0m\u001b[0;34m**\u001b[0m\u001b[0;36m2\u001b[0m\u001b[0;34m)\u001b[0m\u001b[0;34m.\u001b[0m\u001b[0msum\u001b[0m\u001b[0;34m(\u001b[0m\u001b[0maxis\u001b[0m\u001b[0;34m=\u001b[0m\u001b[0;36m0\u001b[0m\u001b[0;34m)\u001b[0m\u001b[0;34m)\u001b[0m\u001b[0;34m\u001b[0m\u001b[0;34m\u001b[0m\u001b[0m\n\u001b[0m\u001b[1;32m    619\u001b[0m             \u001b[0;31m# enforce minimum distance of 0.01\u001b[0m\u001b[0;34m\u001b[0m\u001b[0;34m\u001b[0m\u001b[0m\n\u001b[1;32m    620\u001b[0m             \u001b[0mdistance\u001b[0m \u001b[0;34m=\u001b[0m \u001b[0mnp\u001b[0m\u001b[0;34m.\u001b[0m\u001b[0mwhere\u001b[0m\u001b[0;34m(\u001b[0m\u001b[0mdistance\u001b[0m \u001b[0;34m<\u001b[0m \u001b[0;36m0.01\u001b[0m\u001b[0;34m,\u001b[0m \u001b[0;36m0.01\u001b[0m\u001b[0;34m,\u001b[0m \u001b[0mdistance\u001b[0m\u001b[0;34m)\u001b[0m\u001b[0;34m\u001b[0m\u001b[0;34m\u001b[0m\u001b[0m\n",
            "\u001b[0;32m/usr/local/lib/python3.9/dist-packages/numpy/core/_methods.py\u001b[0m in \u001b[0;36m_sum\u001b[0;34m(a, axis, dtype, out, keepdims, initial, where)\u001b[0m\n\u001b[1;32m     46\u001b[0m def _sum(a, axis=None, dtype=None, out=None, keepdims=False,\n\u001b[1;32m     47\u001b[0m          initial=_NoValue, where=True):\n\u001b[0;32m---> 48\u001b[0;31m     \u001b[0;32mreturn\u001b[0m \u001b[0mumr_sum\u001b[0m\u001b[0;34m(\u001b[0m\u001b[0ma\u001b[0m\u001b[0;34m,\u001b[0m \u001b[0maxis\u001b[0m\u001b[0;34m,\u001b[0m \u001b[0mdtype\u001b[0m\u001b[0;34m,\u001b[0m \u001b[0mout\u001b[0m\u001b[0;34m,\u001b[0m \u001b[0mkeepdims\u001b[0m\u001b[0;34m,\u001b[0m \u001b[0minitial\u001b[0m\u001b[0;34m,\u001b[0m \u001b[0mwhere\u001b[0m\u001b[0;34m)\u001b[0m\u001b[0;34m\u001b[0m\u001b[0;34m\u001b[0m\u001b[0m\n\u001b[0m\u001b[1;32m     49\u001b[0m \u001b[0;34m\u001b[0m\u001b[0m\n\u001b[1;32m     50\u001b[0m def _prod(a, axis=None, dtype=None, out=None, keepdims=False,\n",
            "\u001b[0;31mKeyboardInterrupt\u001b[0m: "
          ]
        },
        {
          "output_type": "display_data",
          "data": {
            "text/plain": [
              "<Figure size 640x480 with 1 Axes>"
            ],
            "image/png": "[encoded data removed]"
          },
          "metadata": {}
        }
      ]
    },
    {
      "cell_type": "markdown",
      "source": [
        "**Creating the DataFrame containing degrees**\n"
      ],
      "metadata": {
        "id": "Q9s4A1WvoMBD"
      }
    },
    {
      "cell_type": "code",
      "source": [
        "# Positive and negative edges\n",
        "Stats = pd.DataFrame(graph.out_degree(),columns=['From','Outdegree']).sort_values('From')\n",
        "Stats_2 =  pd.DataFrame(graph.in_degree(),columns=['To','Indegree']).sort_values('To')\n",
        "b= epi_csv.groupby('From',as_index=False)[['Weight']].sum().sort_values('From')\n",
        "c= epi_csv.groupby('To',as_index=False)[['Weight']].sum().sort_values('To')\n",
        "Stats = Stats.merge(b,on='From',how='left')\n",
        "Stats_2 = Stats_2.merge(c,on='To',how='left')\n",
        "Stats['Pos_out'] = (  Stats['Outdegree'] + Stats['Weight']  )/2\n",
        "Stats['Neg_out'] = (  Stats['Outdegree'] - Stats['Weight']  )/2\n",
        "Stats_2['Pos_in']= (Stats_2['Indegree']  + Stats_2['Weight'])/2\n",
        "Stats_2['Neg_in']= (Stats_2['Indegree']  - Stats_2['Weight'])/2\n",
        "Stats = pd.merge(Stats,Stats_2,left_on='From', right_on='To').drop('To', axis=1)\n",
        "Stats = Stats.drop(['Weight_x','Weight_y'],axis=1)\n",
        "Stats.fillna(0,inplace=True)\n",
        "Stats.head()"
      ],
      "metadata": {
        "colab": {
          "base_uri": "https://localhost:8080/",
          "height": 206
        },
        "id": "VHV3fvR1neI7",
        "outputId": "e30b526e-210b-4f1d-ab16-bcd37ce3342a"
      },
      "execution_count": null,
      "outputs": [
        {
          "output_type": "execute_result",
          "data": {
            "text/plain": [
              "   From  Outdegree  Pos_out  Neg_out  Indegree  Pos_in  Neg_in\n",
              "0     0          1      0.0      1.0         0     0.0     0.0\n",
              "1     1          1      0.0      1.0         2     1.0     1.0\n",
              "2     2          1      1.0      0.0         1     1.0     0.0\n",
              "3     3          0      0.0      0.0         4     4.0     0.0\n",
              "4     4         14      9.0      5.0         1     1.0     0.0"
            ],
            "text/html": [
              "\n",
              "  <div id=\"df-5e4ff33b-a002-4b69-9831-23d2f832b0de\">\n",
              "    <div class=\"colab-df-container\">\n",
              "      <div>\n",
              "<style scoped>\n",
              "    .dataframe tbody tr th:only-of-type {\n",
              "        vertical-align: middle;\n",
              "    }\n",
              "\n",
              "    .dataframe tbody tr th {\n",
              "        vertical-align: top;\n",
              "    }\n",
              "\n",
              "    .dataframe thead th {\n",
              "        text-align: right;\n",
              "    }\n",
              "</style>\n",
              "<table border=\"1\" class=\"dataframe\">\n",
              "  <thead>\n",
              "    <tr style=\"text-align: right;\">\n",
              "      <th></th>\n",
              "      <th>From</th>\n",
              "      <th>Outdegree</th>\n",
              "      <th>Pos_out</th>\n",
              "      <th>Neg_out</th>\n",
              "      <th>Indegree</th>\n",
              "      <th>Pos_in</th>\n",
              "      <th>Neg_in</th>\n",
              "    </tr>\n",
              "  </thead>\n",
              "  <tbody>\n",
              "    <tr>\n",
              "      <th>0</th>\n",
              "      <td>0</td>\n",
              "      <td>1</td>\n",
              "      <td>0.0</td>\n",
              "      <td>1.0</td>\n",
              "      <td>0</td>\n",
              "      <td>0.0</td>\n",
              "      <td>0.0</td>\n",
              "    </tr>\n",
              "    <tr>\n",
              "      <th>1</th>\n",
              "      <td>1</td>\n",
              "      <td>1</td>\n",
              "      <td>0.0</td>\n",
              "      <td>1.0</td>\n",
              "      <td>2</td>\n",
              "      <td>1.0</td>\n",
              "      <td>1.0</td>\n",
              "    </tr>\n",
              "    <tr>\n",
              "      <th>2</th>\n",
              "      <td>2</td>\n",
              "      <td>1</td>\n",
              "      <td>1.0</td>\n",
              "      <td>0.0</td>\n",
              "      <td>1</td>\n",
              "      <td>1.0</td>\n",
              "      <td>0.0</td>\n",
              "    </tr>\n",
              "    <tr>\n",
              "      <th>3</th>\n",
              "      <td>3</td>\n",
              "      <td>0</td>\n",
              "      <td>0.0</td>\n",
              "      <td>0.0</td>\n",
              "      <td>4</td>\n",
              "      <td>4.0</td>\n",
              "      <td>0.0</td>\n",
              "    </tr>\n",
              "    <tr>\n",
              "      <th>4</th>\n",
              "      <td>4</td>\n",
              "      <td>14</td>\n",
              "      <td>9.0</td>\n",
              "      <td>5.0</td>\n",
              "      <td>1</td>\n",
              "      <td>1.0</td>\n",
              "      <td>0.0</td>\n",
              "    </tr>\n",
              "  </tbody>\n",
              "</table>\n",
              "</div>\n",
              "      <button class=\"colab-df-convert\" onclick=\"convertToInteractive('df-5e4ff33b-a002-4b69-9831-23d2f832b0de')\"\n",
              "              title=\"Convert this dataframe to an interactive table.\"\n",
              "              style=\"display:none;\">\n",
              "        \n",
              "  <svg xmlns=\"http://www.w3.org/2000/svg\" height=\"24px\"viewBox=\"0 0 24 24\"\n",
              "       width=\"24px\">\n",
              "    <path d=\"M0 0h24v24H0V0z\" fill=\"none\"/>\n",
              "    <path d=\"M18.56 5.44l.94 2.06.94-2.06 2.06-.94-2.06-.94-.94-2.06-.94 2.06-2.06.94zm-11 1L8.5 8.5l.94-2.06 2.06-.94-2.06-.94L8.5 2.5l-.94 2.06-2.06.94zm10 10l.94 2.06.94-2.06 2.06-.94-2.06-.94-.94-2.06-.94 2.06-2.06.94z\"/><path d=\"M17.41 7.96l-1.37-1.37c-.4-.4-.92-.59-1.43-.59-.52 0-1.04.2-1.43.59L10.3 9.45l-7.72 7.72c-.78.78-.78 2.05 0 2.83L4 21.41c.39.39.9.59 1.41.59.51 0 1.02-.2 1.41-.59l7.78-7.78 2.81-2.81c.8-.78.8-2.07 0-2.86zM5.41 20L4 18.59l7.72-7.72 1.47 1.35L5.41 20z\"/>\n",
              "  </svg>\n",
              "      </button>\n",
              "      \n",
              "  <style>\n",
              "    .colab-df-container {\n",
              "      display:flex;\n",
              "      flex-wrap:wrap;\n",
              "      gap: 12px;\n",
              "    }\n",
              "\n",
              "    .colab-df-convert {\n",
              "      background-color: #E8F0FE;\n",
              "      border: none;\n",
              "      border-radius: 50%;\n",
              "      cursor: pointer;\n",
              "      display: none;\n",
              "      fill: #1967D2;\n",
              "      height: 32px;\n",
              "      padding: 0 0 0 0;\n",
              "      width: 32px;\n",
              "    }\n",
              "\n",
              "    .colab-df-convert:hover {\n",
              "      background-color: #E2EBFA;\n",
              "      box-shadow: 0px 1px 2px rgba(60, 64, 67, 0.3), 0px 1px 3px 1px rgba(60, 64, 67, 0.15);\n",
              "      fill: #174EA6;\n",
              "    }\n",
              "\n",
              "    [theme=dark] .colab-df-convert {\n",
              "      background-color: #3B4455;\n",
              "      fill: #D2E3FC;\n",
              "    }\n",
              "\n",
              "    [theme=dark] .colab-df-convert:hover {\n",
              "      background-color: #434B5C;\n",
              "      box-shadow: 0px 1px 3px 1px rgba(0, 0, 0, 0.15);\n",
              "      filter: drop-shadow(0px 1px 2px rgba(0, 0, 0, 0.3));\n",
              "      fill: #FFFFFF;\n",
              "    }\n",
              "  </style>\n",
              "\n",
              "      <script>\n",
              "        const buttonEl =\n",
              "          document.querySelector('#df-5e4ff33b-a002-4b69-9831-23d2f832b0de button.colab-df-convert');\n",
              "        buttonEl.style.display =\n",
              "          google.colab.kernel.accessAllowed ? 'block' : 'none';\n",
              "\n",
              "        async function convertToInteractive(key) {\n",
              "          const element = document.querySelector('#df-5e4ff33b-a002-4b69-9831-23d2f832b0de');\n",
              "          const dataTable =\n",
              "            await google.colab.kernel.invokeFunction('convertToInteractive',\n",
              "                                                     [key], {});\n",
              "          if (!dataTable) return;\n",
              "\n",
              "          const docLinkHtml = 'Like what you see? Visit the ' +\n",
              "            '<a target=\"_blank\" href=https://colab.research.google.com/notebooks/data_table.ipynb>data table notebook</a>'\n",
              "            + ' to learn more about interactive tables.';\n",
              "          element.innerHTML = '';\n",
              "          dataTable['output_type'] = 'display_data';\n",
              "          await google.colab.output.renderOutput(dataTable, element);\n",
              "          const docLink = document.createElement('div');\n",
              "          docLink.innerHTML = docLinkHtml;\n",
              "          element.appendChild(docLink);\n",
              "        }\n",
              "      </script>\n",
              "    </div>\n",
              "  </div>\n",
              "  "
            ]
          },
          "metadata": {},
          "execution_count": 43
        }
      ]
    },
    {
      "cell_type": "code",
      "source": [
        "Stats.describe()\n",
        "print(Stats.max(axis=0))"
      ],
      "metadata": {
        "colab": {
          "base_uri": "https://localhost:8080/"
        },
        "id": "TAWQlL5NoUVR",
        "outputId": "af535a63-6b49-4979-e919-edf7b42926dc"
      },
      "execution_count": null,
      "outputs": [
        {
          "output_type": "stream",
          "name": "stdout",
          "text": [
            "From         131827.0\n",
            "Outdegree      2070.0\n",
            "Pos_out        2070.0\n",
            "Neg_out        1562.0\n",
            "Indegree       3478.0\n",
            "Pos_in         3338.0\n",
            "Neg_in          540.0\n",
            "dtype: float64\n"
          ]
        }
      ]
    },
    {
      "cell_type": "markdown",
      "source": [
        "**Basic stats**\n"
      ],
      "metadata": {
        "id": "0es1OPEfoWFU"
      }
    },
    {
      "cell_type": "code",
      "source": [
        "print('Number of nodes:',graph.number_of_nodes())\n",
        "print('Number of edges:',graph.number_of_edges())\n",
        "print('Average Clustering:',nx.average_clustering(graph))\n",
        "print('Transitivity:',nx.transitivity(graph))\n",
        "print('Density:',nx.density(graph))"
      ],
      "metadata": {
        "colab": {
          "base_uri": "https://localhost:8080/"
        },
        "id": "zyAzcinmoaap",
        "outputId": "ac9f59a5-38be-416a-b762-4b7bba6f6862"
      },
      "execution_count": null,
      "outputs": [
        {
          "output_type": "stream",
          "name": "stdout",
          "text": [
            "Number of nodes: 131828\n",
            "Number of edges: 841372\n",
            "Average Clustering: 0.09561744905322256\n",
            "Transitivity: 0.07428166527700729\n",
            "Density: 4.841456374018419e-05\n"
          ]
        }
      ]
    },
    {
      "cell_type": "markdown",
      "source": [
        "**Edge weight distribution**\n"
      ],
      "metadata": {
        "id": "ySiiBpQgotcC"
      }
    },
    {
      "cell_type": "code",
      "source": [
        "epi_csv['Weight'].plot.hist(bins=2, alpha=1)"
      ],
      "metadata": {
        "colab": {
          "base_uri": "https://localhost:8080/",
          "height": 282
        },
        "id": "Obq1A-5GoxAq",
        "outputId": "790b142e-d47d-43dd-f998-4d56ac192d37"
      },
      "execution_count": null,
      "outputs": [
        {
          "output_type": "execute_result",
          "data": {
            "text/plain": [
              "<AxesSubplot:ylabel='Frequency'>"
            ]
          },
          "metadata": {},
          "execution_count": 10
        },
        {
          "output_type": "display_data",
          "data": {
            "text/plain": [
              "<Figure size 432x288 with 1 Axes>"
            ],
            "image/png": "[encoded data removed]"
          },
          "metadata": {
            "needs_background": "light"
          }
        }
      ]
    },
    {
      "cell_type": "markdown",
      "source": [
        "**Log-Log plots of degrees**\n"
      ],
      "metadata": {
        "id": "BwiyEOZcoy-b"
      }
    },
    {
      "cell_type": "markdown",
      "source": [
        "Out degree and indegree relationship, relationship between positive and negative weighted outgoing edges in the network and relationship between positive and negative ingoing edges."
      ],
      "metadata": {
        "id": "HQ2aLUEDo15-"
      }
    },
    {
      "cell_type": "code",
      "source": [
        "#Positive and negative Out degree\n",
        "plt.figure(figsize=(4,4))\n",
        "plt.plot(Stats['Pos_out'],Stats['Neg_out'],'ro',markersize=0.25)\n",
        "plt.xscale('log')\n",
        "plt.yscale('log')"
      ],
      "metadata": {
        "colab": {
          "base_uri": "https://localhost:8080/",
          "height": 269
        },
        "id": "FIpsGKR_o4Y6",
        "outputId": "8447136f-ada4-4102-d517-7a45cf59207a"
      },
      "execution_count": null,
      "outputs": [
        {
          "output_type": "display_data",
          "data": {
            "text/plain": [
              "<Figure size 288x288 with 1 Axes>"
            ],
            "image/png": "[encoded data removed]"
          },
          "metadata": {
            "needs_background": "light"
          }
        }
      ]
    },
    {
      "cell_type": "code",
      "source": [
        "#Positive and negative In degree\n",
        "plt.figure(figsize=(4,4))\n",
        "plt.plot(Stats['Pos_in'],Stats['Neg_in'],'ro',markersize=0.25)\n",
        "plt.xscale('log')\n",
        "plt.yscale('log')"
      ],
      "metadata": {
        "colab": {
          "base_uri": "https://localhost:8080/",
          "height": 269
        },
        "id": "8VsKXPwEo61a",
        "outputId": "623b4b56-74ee-4d9c-99c8-c44f7c7f57de"
      },
      "execution_count": null,
      "outputs": [
        {
          "output_type": "display_data",
          "data": {
            "text/plain": [
              "<Figure size 288x288 with 1 Axes>"
            ],
            "image/png": "[encoded data removed]"
          },
          "metadata": {
            "needs_background": "light"
          }
        }
      ]
    },
    {
      "cell_type": "markdown",
      "source": [
        "Out degree and indegree relationship."
      ],
      "metadata": {
        "id": "jEz094Nbo_No"
      }
    },
    {
      "cell_type": "code",
      "source": [
        "#Out degree and In degree relationship\n",
        "plt.figure(figsize=(5,5))\n",
        "plt.plot(Stats['Outdegree'],Stats['Indegree'],'ro',markersize=0.4)\n",
        "plt.xscale('log')\n",
        "plt.yscale('log')"
      ],
      "metadata": {
        "colab": {
          "base_uri": "https://localhost:8080/",
          "height": 324
        },
        "id": "0SV9kWQOpBKM",
        "outputId": "c759c4b9-ad13-4a05-e3da-9421c5032d92"
      },
      "execution_count": null,
      "outputs": [
        {
          "output_type": "display_data",
          "data": {
            "text/plain": [
              "<Figure size 360x360 with 1 Axes>"
            ],
            "image/png": "[encoded data removed]"
          },
          "metadata": {
            "needs_background": "light"
          }
        }
      ]
    },
    {
      "cell_type": "markdown",
      "source": [
        "**Plotting the assortativity coefficients of the nodes.**\n"
      ],
      "metadata": {
        "id": "LDWFdk_cpFtx"
      }
    },
    {
      "cell_type": "code",
      "source": [
        "Deg_cor = nx.average_neighbor_degree(graph,target='out')\n",
        "dict_list = []\n",
        "for key, value in Deg_cor.items():\n",
        "    temp = [key,value]\n",
        "    temp[0] = graph.degree(key,'out')\n",
        "    dict_list.append(temp)\n",
        "dfa1 = pd.DataFrame(dict_list,columns =['Outdegree','Average neighbors outdegree'])\n",
        "dfa2 = dfa1.groupby('Outdegree',as_index=False)['Average neighbors outdegree'].mean()\n",
        "plt.plot(dfa1['Outdegree'],dfa1['Average neighbors outdegree'],'ro',markersize=0.3)\n",
        "plt.plot(dfa2['Outdegree'],dfa2['Average neighbors outdegree'],'bo',markersize=1)\n",
        "plt.xscale('log')\n",
        "plt.yscale('log')"
      ],
      "metadata": {
        "colab": {
          "base_uri": "https://localhost:8080/",
          "height": 269
        },
        "id": "emFKMcj9pJz7",
        "outputId": "81c5524a-85fe-40f2-c77a-39cfe71d3af0"
      },
      "execution_count": null,
      "outputs": [
        {
          "output_type": "display_data",
          "data": {
            "text/plain": [
              "<Figure size 432x288 with 1 Axes>"
            ],
            "image/png": "[encoded data removed]"
          },
          "metadata": {
            "needs_background": "light"
          }
        }
      ]
    },
    {
      "cell_type": "code",
      "source": [
        "Deg_cor = nx.average_neighbor_degree(graph,target='in')\n",
        "dict_list = []\n",
        "for key, value in Deg_cor.items():\n",
        "    temp = [key,value]\n",
        "    temp[0] = graph.degree(key,'in')\n",
        "    dict_list.append(temp)\n",
        "dfa1 = pd.DataFrame(dict_list,columns =['Indegree','Average neighbors indegree'])\n",
        "dfa2 = dfa1.groupby('Indegree',as_index=False)['Average neighbors indegree'].mean()\n",
        "plt.plot(dfa1['Indegree'],dfa1['Average neighbors indegree'],'ro',markersize=0.3)\n",
        "plt.plot(dfa2['Indegree'],dfa2['Average neighbors indegree'],'bo',markersize=1)\n",
        "\n",
        "plt.xscale('log')\n",
        "plt.yscale('log')"
      ],
      "metadata": {
        "colab": {
          "base_uri": "https://localhost:8080/",
          "height": 269
        },
        "id": "AwT9E-b5pL-8",
        "outputId": "ca456bed-d01f-40a1-9702-795c5ef852a8"
      },
      "execution_count": null,
      "outputs": [
        {
          "output_type": "display_data",
          "data": {
            "text/plain": [
              "<Figure size 432x288 with 1 Axes>"
            ],
            "image/png": "[encoded data removed]"
          },
          "metadata": {
            "needs_background": "light"
          }
        }
      ]
    },
    {
      "cell_type": "markdown",
      "source": [
        "**Checking assortativity**\n",
        "\n"
      ],
      "metadata": {
        "id": "1km246MGpXwa"
      }
    },
    {
      "cell_type": "code",
      "source": [
        "print(nx.degree_assortativity_coefficient(graph,'in','in'))\n",
        "print(nx.degree_assortativity_coefficient(graph,'out','out'))"
      ],
      "metadata": {
        "colab": {
          "base_uri": "https://localhost:8080/"
        },
        "id": "qdC0VR0ypajT",
        "outputId": "1b1ffa92-65fd-4017-815f-6d2657ed0399"
      },
      "execution_count": null,
      "outputs": [
        {
          "output_type": "stream",
          "name": "stdout",
          "text": [
            "0.005121469550551876\n",
            "-0.030516704380786377\n"
          ]
        }
      ]
    },
    {
      "cell_type": "code",
      "source": [
        "nx.degree_assortativity_coefficient(graph)"
      ],
      "metadata": {
        "colab": {
          "base_uri": "https://localhost:8080/"
        },
        "id": "CDf5SMFZpc3_",
        "outputId": "762de97a-7ad0-441b-ea30-38317e9bfa9b"
      },
      "execution_count": null,
      "outputs": [
        {
          "output_type": "execute_result",
          "data": {
            "text/plain": [
              "-0.06430169476171486"
            ]
          },
          "metadata": {},
          "execution_count": 17
        }
      ]
    },
    {
      "cell_type": "markdown",
      "source": [
        "**Checking the power law for In-degree**"
      ],
      "metadata": {
        "id": "Ds2LWMhKaJDX"
      }
    },
    {
      "cell_type": "code",
      "source": [
        "import math\n",
        "pos = Stats['Indegree'][Stats['Indegree'] != 0]\n",
        "pos = pos.transform(lambda x: math.floor(math.log(x)) )\n",
        "\n",
        "prob = pos.value_counts(normalize=True)\n",
        "threshold = 0.0001\n",
        "mask = prob > threshold\n",
        "tail_prob = prob.loc[~mask].sum()\n",
        "prob = prob.loc[mask]\n",
        "prob['other'] = tail_prob\n",
        "prob.plot(kind='bar',log=True,color='r')"
      ],
      "metadata": {
        "colab": {
          "base_uri": "https://localhost:8080/",
          "height": 304
        },
        "id": "hhFc2cXraMBp",
        "outputId": "54b526c3-b7ef-42fa-b404-c3e9009222b3"
      },
      "execution_count": null,
      "outputs": [
        {
          "output_type": "execute_result",
          "data": {
            "text/plain": [
              "<AxesSubplot:>"
            ]
          },
          "metadata": {},
          "execution_count": 25
        },
        {
          "output_type": "display_data",
          "data": {
            "text/plain": [
              "<Figure size 432x288 with 1 Axes>"
            ],
            "image/png": "[encoded data removed]"
          },
          "metadata": {
            "needs_background": "light"
          }
        }
      ]
    },
    {
      "cell_type": "markdown",
      "source": [
        "**Finding the power law coefficient of the indegree**"
      ],
      "metadata": {
        "id": "RiEsyhpNaQsR"
      }
    },
    {
      "cell_type": "code",
      "source": [
        "import math\n",
        "import igraph\n",
        "\n",
        "pos = Stats['Indegree'][Stats['Indegree'] != 0]\n",
        "igraph.power_law_fit(pos)"
      ],
      "metadata": {
        "colab": {
          "base_uri": "https://localhost:8080/"
        },
        "id": "SnJPte6ZaSCL",
        "outputId": "ccd9c48a-5ba1-47f6-dd36-4d3fa117336e"
      },
      "execution_count": null,
      "outputs": [
        {
          "output_type": "execute_result",
          "data": {
            "text/plain": [
              "FittedPowerLaw(continuous=False, alpha=1.7049436066757273, xmin=1.0, L=-197839.7497898456, D=0.02086119220655669, p=0.0)"
            ]
          },
          "metadata": {},
          "execution_count": 28
        }
      ]
    },
    {
      "cell_type": "markdown",
      "source": [
        "**Size of components for bowtie structure**"
      ],
      "metadata": {
        "id": "7NMs5CqaeVPB"
      }
    },
    {
      "cell_type": "code",
      "source": [
        "SCC = max(nx.strongly_connected_components(graph), key=len)\n",
        "print('Size of maximal strongly connected component is ' + str(len(SCC)))\n",
        "WCC = max(nx.weakly_connected_components(graph), key=len)\n",
        "print('Size of maximal weakly connected component is ' + str(len(WCC)))\n",
        "DIF = list(set(WCC)-set(SCC))\n",
        "OUT_C = []\n",
        "IN_C = []\n",
        "IN = 0\n",
        "OUT = 0\n",
        "for index, node1 in enumerate(DIF):\n",
        "    for index2, node2 in enumerate(SCC):\n",
        "\n",
        "        if graph.has_edge(node1,node2):\n",
        "            OUT+=1\n",
        "            OUT_C.append(node2)\n",
        "            break\n",
        "        elif graph.has_edge(node2,node1):\n",
        "            IN+=1\n",
        "            IN_C.append(node1)\n",
        "            break\n",
        "\n",
        "\n",
        "TND = len(DIF)-IN-OUT\n",
        "print(IN,OUT,TND)"
      ],
      "metadata": {
        "colab": {
          "base_uri": "https://localhost:8080/"
        },
        "id": "qzDkcbuLeW_W",
        "outputId": "d82f2305-5ee9-4fb2-ecec-55288cd8846f"
      },
      "execution_count": null,
      "outputs": [
        {
          "output_type": "stream",
          "name": "stdout",
          "text": [
            "Size of maximal strongly connected component is 41441\n",
            "Size of maximal weakly connected component is 119130\n",
            "29732 37682 10275\n"
          ]
        }
      ]
    },
    {
      "cell_type": "markdown",
      "source": [
        "**Community detection in graph**"
      ],
      "metadata": {
        "id": "-dRsxShseSgT"
      }
    },
    {
      "cell_type": "code",
      "source": [
        "SCC = max(nx.strongly_connected_components(graph), key=len)\n",
        "scc_com = graph.subgraph(SCC).copy()\n",
        "scc2 = nx.Graph(scc_com)\n",
        "\n",
        "# Removing the weights.\n",
        "\n",
        "for u,v,d in scc2.edges(data=True):\n",
        "    d['weight']=1\n",
        "\n",
        "communities =community_louvain.best_partition(scc2,random_state=5)"
      ],
      "metadata": {
        "id": "k4F5MHL0edlh"
      },
      "execution_count": null,
      "outputs": []
    },
    {
      "cell_type": "code",
      "source": [
        "print(set(communities.values()))"
      ],
      "metadata": {
        "colab": {
          "base_uri": "https://localhost:8080/"
        },
        "id": "P9kp8tn0ejY5",
        "outputId": "c0af1a03-ad3a-414f-a277-bebc76379975"
      },
      "execution_count": null,
      "outputs": [
        {
          "output_type": "stream",
          "name": "stdout",
          "text": [
            "{0, 1, 2, 3, 4, 5, 6, 7, 8, 9, 10, 11, 12, 13, 14, 15, 16, 17, 18, 19, 20, 21, 22, 23, 24, 25, 26, 27, 28, 29, 30, 31, 32, 33, 34, 35, 36, 37, 38, 39, 40, 41, 42, 43, 44, 45, 46, 47, 48, 49, 50, 51, 52, 53, 54, 55, 56, 57, 58, 59, 60, 61, 62, 63, 64, 65, 66, 67, 68, 69, 70, 71, 72, 73, 74, 75, 76, 77, 78, 79, 80, 81, 82, 83, 84, 85, 86, 87, 88, 89, 90, 91, 92, 93, 94, 95, 96, 97, 98, 99, 100, 101, 102, 103, 104, 105, 106, 107, 108, 109, 110, 111, 112, 113, 114, 115, 116, 117, 118, 119, 120, 121, 122, 123, 124, 125, 126, 127, 128, 129, 130, 131, 132, 133, 134, 135, 136, 137, 138, 139, 140, 141, 142, 143, 144, 145, 146, 147, 148, 149, 150, 151, 152, 153, 154, 155, 156, 157, 158, 159, 160, 161, 162, 163, 164, 165, 166, 167, 168, 169, 170, 171, 172, 173, 174, 175, 176, 177, 178, 179, 180, 181, 182, 183, 184, 185, 186, 187, 188, 189, 190, 191, 192, 193, 194, 195, 196, 197, 198, 199, 200, 201, 202, 203, 204, 205, 206, 207, 208, 209, 210, 211, 212, 213, 214, 215, 216, 217, 218, 219, 220, 221, 222, 223, 224, 225, 226, 227, 228, 229, 230, 231, 232, 233, 234, 235, 236, 237, 238, 239, 240, 241, 242, 243, 244, 245, 246, 247, 248, 249, 250, 251, 252, 253, 254, 255, 256, 257, 258, 259, 260, 261, 262, 263, 264, 265, 266, 267, 268, 269, 270, 271, 272, 273, 274, 275, 276, 277, 278, 279, 280, 281, 282, 283, 284, 285, 286, 287, 288, 289, 290, 291, 292, 293, 294, 295, 296, 297, 298, 299, 300, 301, 302, 303, 304, 305, 306, 307, 308, 309, 310, 311, 312, 313, 314, 315, 316, 317, 318, 319, 320, 321, 322, 323, 324, 325, 326, 327, 328, 329, 330, 331, 332, 333, 334, 335, 336, 337, 338, 339, 340, 341, 342, 343, 344, 345, 346, 347, 348, 349, 350, 351, 352, 353, 354, 355, 356, 357, 358, 359, 360, 361, 362, 363, 364, 365, 366, 367, 368, 369, 370, 371, 372, 373, 374}\n"
          ]
        }
      ]
    },
    {
      "cell_type": "code",
      "source": [
        "ind_graph = community_louvain.induced_graph(communities, scc2)\n",
        "\n",
        "inv_map = dict()\n",
        "for key, value in communities.items():\n",
        "    inv_map.setdefault(value, list()).append(key)\n",
        "\n",
        "# Removing the small communities\n",
        "\n",
        "inv_map2 = {key:val for key, val in inv_map.items() if len(val) >= 100}\n",
        "sizes = np.array([len(inv_map2[k]) for k in list(inv_map2.keys())])\n",
        "\n",
        "# Removing edges from the graph:\n",
        "\n",
        "inv_keys = [key for key in inv_map2]\n",
        "ind_nodes = list(ind_graph.nodes())\n",
        "for node in ind_nodes:\n",
        "    if node not in inv_keys:\n",
        "        ind_graph.remove_node(node)"
      ],
      "metadata": {
        "id": "3TgbxJKdeoLu"
      },
      "execution_count": null,
      "outputs": []
    },
    {
      "cell_type": "code",
      "source": [
        "community_louvain.modularity(communities,scc2)"
      ],
      "metadata": {
        "colab": {
          "base_uri": "https://localhost:8080/"
        },
        "id": "L2VSdsWSep-q",
        "outputId": "d427666a-edbb-4a25-b6fe-0eb3dd432818"
      },
      "execution_count": null,
      "outputs": [
        {
          "output_type": "execute_result",
          "data": {
            "text/plain": [
              "0.4328499720766367"
            ]
          },
          "metadata": {},
          "execution_count": 45
        }
      ]
    },
    {
      "cell_type": "markdown",
      "source": [
        "**Getting the sizes of the communities**"
      ],
      "metadata": {
        "id": "xjIFHPyMesEd"
      }
    },
    {
      "cell_type": "code",
      "source": [
        "print(sizes)"
      ],
      "metadata": {
        "colab": {
          "base_uri": "https://localhost:8080/"
        },
        "id": "1pucDBQtetyW",
        "outputId": "0f3ccac6-4227-427f-8bcb-6e0477a04fce"
      },
      "execution_count": null,
      "outputs": [
        {
          "output_type": "stream",
          "name": "stdout",
          "text": [
            "[10032 10540   453 11587  4309   221   143   945   311   111   124]\n"
          ]
        }
      ]
    },
    {
      "cell_type": "markdown",
      "source": [
        "**Checking power law for outdegree**"
      ],
      "metadata": {
        "id": "qYAiZp-Jexug"
      }
    },
    {
      "cell_type": "code",
      "source": [
        "import math\n",
        "pos = Stats['Outdegree'][Stats['Outdegree'] != 0]\n",
        "pos = pos.transform(lambda x: math.floor(math.log(x)) )\n",
        "\n",
        "prob = pos.value_counts(normalize=True)\n",
        "threshold = 0.0001\n",
        "mask = prob > threshold\n",
        "tail_prob = prob.loc[~mask].sum()\n",
        "prob = prob.loc[mask]\n",
        "prob['other'] = tail_prob\n",
        "prob.plot(kind='bar',log=True,color='r')"
      ],
      "metadata": {
        "colab": {
          "base_uri": "https://localhost:8080/",
          "height": 304
        },
        "id": "oAIVB6RWe3BF",
        "outputId": "029d4c5e-143a-4197-da2a-b0223fd0c457"
      },
      "execution_count": null,
      "outputs": [
        {
          "output_type": "execute_result",
          "data": {
            "text/plain": [
              "<AxesSubplot:>"
            ]
          },
          "metadata": {},
          "execution_count": 47
        },
        {
          "output_type": "display_data",
          "data": {
            "text/plain": [
              "<Figure size 432x288 with 1 Axes>"
            ],
            "image/png": "[encoded data removed]"
          },
          "metadata": {
            "needs_background": "light"
          }
        }
      ]
    },
    {
      "cell_type": "code",
      "source": [
        "import math\n",
        "import igraph\n",
        "pos = Stats['Outdegree'][Stats['Outdegree'] != 0]\n",
        "igraph.power_law_fit(pos)"
      ],
      "metadata": {
        "colab": {
          "base_uri": "https://localhost:8080/"
        },
        "id": "wXBnBH9Ye5NM",
        "outputId": "faeaa022-26a0-4905-ad02-b199dc8753c5"
      },
      "execution_count": null,
      "outputs": [
        {
          "output_type": "execute_result",
          "data": {
            "text/plain": [
              "FittedPowerLaw(continuous=False, alpha=1.7290327710653879, xmin=2.0, L=-133428.12747064946, D=0.019071101789395528, p=0.0)"
            ]
          },
          "metadata": {},
          "execution_count": 48
        }
      ]
    },
    {
      "cell_type": "markdown",
      "source": [
        "**Checking the rich club effect**"
      ],
      "metadata": {
        "id": "KXtL_W1ae7y5"
      }
    },
    {
      "cell_type": "code",
      "source": [
        "# We want to see the rich club effect in the 100 edges with the highest indegree.\n",
        "picked = 100\n",
        "rce1 = Stats[['From','Indegree']].sort_values(by=['Indegree'], ascending=False)[0:picked]\n",
        "rich = list(rce1.From.values)\n",
        "rece_graph = graph.subgraph(rich).copy()\n",
        "# Dropping first value\n",
        "\n",
        "densities = np.zeros((3,picked))\n",
        "pos_edges = 0\n",
        "neg_edges = 0\n",
        "for rank, node1 in enumerate(rich[1::]):\n",
        "\n",
        "    for rank2, node2 in enumerate(rich[:rank+1]):\n",
        "        if graph.has_edge(node1, node2):\n",
        "            if graph[node1][node2]['weight'] == 1:\n",
        "                pos_edges += 1\n",
        "            else:\n",
        "                neg_edges += 1\n",
        "        if graph.has_edge(node2, node1):\n",
        "            if graph[node2][node1]['weight'] == 1:\n",
        "                pos_edges += 1\n",
        "            else:\n",
        "                neg_edges += 1\n",
        "\n",
        "    densities[0][rank] = pos_edges/(rank+2)/(rank+1)\n",
        "    densities[1][rank] = neg_edges/(rank+2)/(rank+1)\n",
        "    densities[2][rank] = (pos_edges + neg_edges)/(rank+2)/(rank+1)\n",
        "\n",
        "\n",
        "plt.plot( [i for i in range(0,picked)],densities[0,],'r-',label='Positive edge density')\n",
        "plt.plot( [i for i in range(0,picked)],densities[1,],'b-',label='Negative edge density')\n",
        "plt.plot( [i for i in range(0,picked)],densities[2,],'g-',label='Total density')\n",
        "plt.legend(loc=\"upper right\")\n",
        "plt.ylim((0,1))\n",
        "plt.xlim((-2,picked-2))\n",
        "plt.show()\n",
        "\n",
        "\n",
        "# Checking the one sidedness\n",
        "nx.reciprocity(rece_graph)\n",
        "\n",
        "\n",
        "\n",
        ""
      ],
      "metadata": {
        "colab": {
          "base_uri": "https://localhost:8080/",
          "height": 286
        },
        "id": "roqxy6X0e_70",
        "outputId": "f3a5319d-e123-4bd5-ecb1-727e00b6cf26"
      },
      "execution_count": null,
      "outputs": [
        {
          "output_type": "display_data",
          "data": {
            "text/plain": [
              "<Figure size 432x288 with 1 Axes>"
            ],
            "image/png": "[encoded data removed]"
          },
          "metadata": {
            "needs_background": "light"
          }
        },
        {
          "output_type": "execute_result",
          "data": {
            "text/plain": [
              "0.6515615431720759"
            ]
          },
          "metadata": {},
          "execution_count": 49
        }
      ]
    },
    {
      "cell_type": "markdown",
      "source": [
        "**Negative rich club**"
      ],
      "metadata": {
        "id": "6Uw3F7MTfRcw"
      }
    },
    {
      "cell_type": "code",
      "source": [
        "# We want to see the rich club effect in the 100 edges with the highest negative_degree.\n",
        "picked = 16\n",
        "rce2 = Stats[['From','Neg_in']].sort_values(by=['Neg_in'], ascending=False)[4:picked+4]\n",
        "rich = list(rce2.From.values)\n",
        "# Dropping first value\n",
        "\n",
        "densities = np.zeros((3,picked))\n",
        "pos_edges = 0\n",
        "neg_edges = 0\n",
        "\n",
        "for rank, node1 in enumerate(rich[1::]):\n",
        "\n",
        "    for rank2, node2 in enumerate(rich[:rank+1]):\n",
        "        if graph.has_edge(node1, node2):\n",
        "            if graph[node1][node2]['weight'] == 1:\n",
        "                pos_edges += 1\n",
        "            else:\n",
        "                neg_edges += 1\n",
        "        if graph.has_edge(node2, node1):\n",
        "            if graph[node2][node1]['weight'] == 1:\n",
        "                pos_edges += 1\n",
        "            else:\n",
        "                neg_edges += 1\n",
        "\n",
        "\n",
        "    densities[0][rank] = pos_edges/(rank+2)/(rank+1)\n",
        "    densities[1][rank] = neg_edges/(rank+2)/(rank+1)\n",
        "    densities[2][rank] = (pos_edges + neg_edges)/(rank+2)/(rank+1)\n",
        "\n",
        "\n",
        "plt.plot( [i for i in range(0,picked)],densities[0,],'r-',label='Positive edge density')\n",
        "plt.plot( [i for i in range(0,picked)],densities[1,],'b-',label='Negative edge density')\n",
        "plt.plot( [i for i in range(0,picked)],densities[2,],'g-',label='Total density')\n",
        "plt.legend(loc=\"upper right\")\n",
        "plt.ylim((0,1))\n",
        "plt.xlim((-1,picked-2))\n",
        "plt.show()\n",
        "\n"
      ],
      "metadata": {
        "colab": {
          "base_uri": "https://localhost:8080/",
          "height": 269
        },
        "id": "XUqDTARlfU9e",
        "outputId": "ebfd0656-1af7-4151-8e05-5ca160785592"
      },
      "execution_count": null,
      "outputs": [
        {
          "output_type": "display_data",
          "data": {
            "text/plain": [
              "<Figure size 432x288 with 1 Axes>"
            ],
            "image/png": "[encoded data removed]"
          },
          "metadata": {
            "needs_background": "light"
          }
        }
      ]
    },
    {
      "cell_type": "markdown",
      "source": [
        "**Simulating the adoption of a behaviour.**"
      ],
      "metadata": {
        "id": "ea2Syy5vZCAA"
      }
    },
    {
      "cell_type": "code",
      "source": [
        "# Let top 200 out of 300 people adopt a certain opinion\n",
        "import random\n",
        "random.seed(5)\n",
        "x=len(Stats)\n",
        "op1 = Stats[['From','Pos_in']].sort_values(by=['Pos_in'], ascending=False)[0:300]\n",
        "op2 = Stats[['From','Neg_in']].sort_values(by=['Neg_in'], ascending=False)[0:100]\n",
        "adopters =  random.sample(list(op1['From']), k=200) + random.sample(list(op2['From']), k=50)\n",
        "Stats['Adopt'] = 0\n",
        "Stats['Heard'] = 0\n",
        "Stats['Adopted'] = 0\n",
        "for node in adopters :\n",
        "    Stats.loc[node-1,'Adopt'] = 1\n",
        "\n",
        "Total_adopters = 250\n",
        "c = []\n",
        "change = True\n",
        "threshold = 0.4\n",
        "j=0\n",
        "while change:\n",
        "    new_adopters = 0\n",
        "    for node in graph.nodes :\n",
        "        if Stats.loc[x-1 if node-1==-1 else node-1,'Heard']== 0:\n",
        "            Stats.at[x-1 if node-1==-1 else node-1,'Heard'] = j\n",
        "        if Stats.loc[x-1 if node-1==-1 else node-1,'Adopt'] == 0 and graph.out_degree(node)!= 0:\n",
        "            trust_ch = 0\n",
        "            no_out = graph.out_degree(node)\n",
        "            for outgoing in graph.successors(node):\n",
        "                if Stats.loc[outgoing-1,'Adopt'] == 1:\n",
        "                    trust_ch += graph.get_edge_data(node,outgoing).get('weight')\n",
        "            if trust_ch / no_out > threshold:\n",
        "                Stats.at[x-1 if node-1==-1 else node-1,'Adopt'] = 1\n",
        "                Stats.at[x-1 if node-1==-1 else node-1,'Adopted'] = j\n",
        "                new_adopters += 1\n",
        "    c.append(new_adopters)\n",
        "    j+=1\n",
        "    print('The number of new adopters at step ' + str(j) + ' is ' + str(new_adopters))\n",
        "    if new_adopters == 0:\n",
        "        change = False\n",
        "\n",
        ""
      ],
      "metadata": {
        "colab": {
          "base_uri": "https://localhost:8080/"
        },
        "id": "wbgVsVB_ZCXs",
        "outputId": "6e384cac-2d8a-47a9-ef11-3c83d6f9a593"
      },
      "execution_count": null,
      "outputs": [
        {
          "output_type": "stream",
          "name": "stdout",
          "text": [
            "The number of new adopters at step 1 is 8782\n",
            "The number of new adopters at step 2 is 665\n",
            "The number of new adopters at step 3 is 229\n",
            "The number of new adopters at step 4 is 96\n",
            "The number of new adopters at step 5 is 45\n",
            "The number of new adopters at step 6 is 94\n",
            "The number of new adopters at step 7 is 329\n",
            "The number of new adopters at step 8 is 529\n",
            "The number of new adopters at step 9 is 1362\n",
            "The number of new adopters at step 10 is 1548\n",
            "The number of new adopters at step 11 is 961\n",
            "The number of new adopters at step 12 is 845\n",
            "The number of new adopters at step 13 is 906\n",
            "The number of new adopters at step 14 is 1384\n",
            "The number of new adopters at step 15 is 1327\n",
            "The number of new adopters at step 16 is 1283\n",
            "The number of new adopters at step 17 is 1093\n",
            "The number of new adopters at step 18 is 1789\n",
            "The number of new adopters at step 19 is 3048\n",
            "The number of new adopters at step 20 is 3577\n",
            "The number of new adopters at step 21 is 3463\n",
            "The number of new adopters at step 22 is 4769\n",
            "The number of new adopters at step 23 is 4623\n",
            "The number of new adopters at step 24 is 4589\n",
            "The number of new adopters at step 25 is 3474\n",
            "The number of new adopters at step 26 is 1781\n",
            "The number of new adopters at step 27 is 1010\n",
            "The number of new adopters at step 28 is 414\n",
            "The number of new adopters at step 29 is 130\n",
            "The number of new adopters at step 30 is 27\n",
            "The number of new adopters at step 31 is 2\n",
            "The number of new adopters at step 32 is 0\n"
          ]
        }
      ]
    },
    {
      "cell_type": "markdown",
      "source": [
        "**Average time taken to adopt an opinion**"
      ],
      "metadata": {
        "id": "Nn_LNKO_zVZr"
      }
    },
    {
      "cell_type": "code",
      "source": [
        "Times = Stats.loc[Stats['Heard'] != 0]\n",
        "Times = Times.loc[Times['Adopted'] != 0]\n",
        "\n",
        "print(Times['Adopted'].mean()-Times['Heard'].mean())"
      ],
      "metadata": {
        "colab": {
          "base_uri": "https://localhost:8080/"
        },
        "id": "EFVxKaWBZPhu",
        "outputId": "a0fa8d9e-8c32-46cb-f8da-8b49e4fa05f2"
      },
      "execution_count": null,
      "outputs": [
        {
          "output_type": "stream",
          "name": "stdout",
          "text": [
            "17.403463165315475\n"
          ]
        }
      ]
    },
    {
      "cell_type": "markdown",
      "source": [
        "**Adoption of behaviour in the out component**"
      ],
      "metadata": {
        "id": "QwEAnmUXZovt"
      }
    },
    {
      "cell_type": "code",
      "source": [
        "from statistics import mean\n",
        "\n",
        "def adopted(node):\n",
        "    return int(Stats.loc[node-1,'Adopt'] == 1)\n",
        "\n",
        "print(round(1-mean(list(map(adopted,OUT_C))),5))"
      ],
      "metadata": {
        "colab": {
          "base_uri": "https://localhost:8080/"
        },
        "id": "DfbyX6jzZqt5",
        "outputId": "d837264c-fa2a-4378-bd07-9ac3fe5ca23e"
      },
      "execution_count": null,
      "outputs": [
        {
          "output_type": "stream",
          "name": "stdout",
          "text": [
            "0.2718\n"
          ]
        }
      ]
    },
    {
      "cell_type": "markdown",
      "source": [
        "**Adoption of behaviours in small communities**"
      ],
      "metadata": {
        "id": "OFctAawJZ1K6"
      }
    },
    {
      "cell_type": "code",
      "source": [
        "comm = np.zeros((6,3))\n",
        "i = 0\n",
        "inv_mapp = {key:val for key, val in inv_map.items() if len(val) >= 100 and len(val) <500}\n",
        "for key, value in inv_mapp.items():\n",
        "    comm[i][0] = key\n",
        "    comm[i][1] = len(value)\n",
        "    comm[i][2] = round(1-mean(list(map(adopted,value))),2)\n",
        "    i+=1\n",
        "\n",
        "comm = pd.DataFrame(comm,columns=['Community','Size','Rate of adoption'])\n",
        "comm"
      ],
      "metadata": {
        "colab": {
          "base_uri": "https://localhost:8080/",
          "height": 237
        },
        "id": "Ifag-nJrZ2nC",
        "outputId": "e9a0ff28-803b-40e3-cf88-9711431d25d6"
      },
      "execution_count": null,
      "outputs": [
        {
          "output_type": "execute_result",
          "data": {
            "text/plain": [
              "   Community   Size  Rate of adoption\n",
              "0        2.0  453.0              0.94\n",
              "1        7.0  221.0              0.95\n",
              "2       11.0  143.0              0.94\n",
              "3       18.0  311.0              0.94\n",
              "4       35.0  111.0              0.94\n",
              "5       44.0  124.0              0.93"
            ],
            "text/html": [
              "\n",
              "  <div id=\"df-a7551704-ad90-4261-b7ac-49388d77f173\">\n",
              "    <div class=\"colab-df-container\">\n",
              "      <div>\n",
              "<style scoped>\n",
              "    .dataframe tbody tr th:only-of-type {\n",
              "        vertical-align: middle;\n",
              "    }\n",
              "\n",
              "    .dataframe tbody tr th {\n",
              "        vertical-align: top;\n",
              "    }\n",
              "\n",
              "    .dataframe thead th {\n",
              "        text-align: right;\n",
              "    }\n",
              "</style>\n",
              "<table border=\"1\" class=\"dataframe\">\n",
              "  <thead>\n",
              "    <tr style=\"text-align: right;\">\n",
              "      <th></th>\n",
              "      <th>Community</th>\n",
              "      <th>Size</th>\n",
              "      <th>Rate of adoption</th>\n",
              "    </tr>\n",
              "  </thead>\n",
              "  <tbody>\n",
              "    <tr>\n",
              "      <th>0</th>\n",
              "      <td>2.0</td>\n",
              "      <td>453.0</td>\n",
              "      <td>0.94</td>\n",
              "    </tr>\n",
              "    <tr>\n",
              "      <th>1</th>\n",
              "      <td>7.0</td>\n",
              "      <td>221.0</td>\n",
              "      <td>0.95</td>\n",
              "    </tr>\n",
              "    <tr>\n",
              "      <th>2</th>\n",
              "      <td>11.0</td>\n",
              "      <td>143.0</td>\n",
              "      <td>0.94</td>\n",
              "    </tr>\n",
              "    <tr>\n",
              "      <th>3</th>\n",
              "      <td>18.0</td>\n",
              "      <td>311.0</td>\n",
              "      <td>0.94</td>\n",
              "    </tr>\n",
              "    <tr>\n",
              "      <th>4</th>\n",
              "      <td>35.0</td>\n",
              "      <td>111.0</td>\n",
              "      <td>0.94</td>\n",
              "    </tr>\n",
              "    <tr>\n",
              "      <th>5</th>\n",
              "      <td>44.0</td>\n",
              "      <td>124.0</td>\n",
              "      <td>0.93</td>\n",
              "    </tr>\n",
              "  </tbody>\n",
              "</table>\n",
              "</div>\n",
              "      <button class=\"colab-df-convert\" onclick=\"convertToInteractive('df-a7551704-ad90-4261-b7ac-49388d77f173')\"\n",
              "              title=\"Convert this dataframe to an interactive table.\"\n",
              "              style=\"display:none;\">\n",
              "        \n",
              "  <svg xmlns=\"http://www.w3.org/2000/svg\" height=\"24px\"viewBox=\"0 0 24 24\"\n",
              "       width=\"24px\">\n",
              "    <path d=\"M0 0h24v24H0V0z\" fill=\"none\"/>\n",
              "    <path d=\"M18.56 5.44l.94 2.06.94-2.06 2.06-.94-2.06-.94-.94-2.06-.94 2.06-2.06.94zm-11 1L8.5 8.5l.94-2.06 2.06-.94-2.06-.94L8.5 2.5l-.94 2.06-2.06.94zm10 10l.94 2.06.94-2.06 2.06-.94-2.06-.94-.94-2.06-.94 2.06-2.06.94z\"/><path d=\"M17.41 7.96l-1.37-1.37c-.4-.4-.92-.59-1.43-.59-.52 0-1.04.2-1.43.59L10.3 9.45l-7.72 7.72c-.78.78-.78 2.05 0 2.83L4 21.41c.39.39.9.59 1.41.59.51 0 1.02-.2 1.41-.59l7.78-7.78 2.81-2.81c.8-.78.8-2.07 0-2.86zM5.41 20L4 18.59l7.72-7.72 1.47 1.35L5.41 20z\"/>\n",
              "  </svg>\n",
              "      </button>\n",
              "      \n",
              "  <style>\n",
              "    .colab-df-container {\n",
              "      display:flex;\n",
              "      flex-wrap:wrap;\n",
              "      gap: 12px;\n",
              "    }\n",
              "\n",
              "    .colab-df-convert {\n",
              "      background-color: #E8F0FE;\n",
              "      border: none;\n",
              "      border-radius: 50%;\n",
              "      cursor: pointer;\n",
              "      display: none;\n",
              "      fill: #1967D2;\n",
              "      height: 32px;\n",
              "      padding: 0 0 0 0;\n",
              "      width: 32px;\n",
              "    }\n",
              "\n",
              "    .colab-df-convert:hover {\n",
              "      background-color: #E2EBFA;\n",
              "      box-shadow: 0px 1px 2px rgba(60, 64, 67, 0.3), 0px 1px 3px 1px rgba(60, 64, 67, 0.15);\n",
              "      fill: #174EA6;\n",
              "    }\n",
              "\n",
              "    [theme=dark] .colab-df-convert {\n",
              "      background-color: #3B4455;\n",
              "      fill: #D2E3FC;\n",
              "    }\n",
              "\n",
              "    [theme=dark] .colab-df-convert:hover {\n",
              "      background-color: #434B5C;\n",
              "      box-shadow: 0px 1px 3px 1px rgba(0, 0, 0, 0.15);\n",
              "      filter: drop-shadow(0px 1px 2px rgba(0, 0, 0, 0.3));\n",
              "      fill: #FFFFFF;\n",
              "    }\n",
              "  </style>\n",
              "\n",
              "      <script>\n",
              "        const buttonEl =\n",
              "          document.querySelector('#df-a7551704-ad90-4261-b7ac-49388d77f173 button.colab-df-convert');\n",
              "        buttonEl.style.display =\n",
              "          google.colab.kernel.accessAllowed ? 'block' : 'none';\n",
              "\n",
              "        async function convertToInteractive(key) {\n",
              "          const element = document.querySelector('#df-a7551704-ad90-4261-b7ac-49388d77f173');\n",
              "          const dataTable =\n",
              "            await google.colab.kernel.invokeFunction('convertToInteractive',\n",
              "                                                     [key], {});\n",
              "          if (!dataTable) return;\n",
              "\n",
              "          const docLinkHtml = 'Like what you see? Visit the ' +\n",
              "            '<a target=\"_blank\" href=https://colab.research.google.com/notebooks/data_table.ipynb>data table notebook</a>'\n",
              "            + ' to learn more about interactive tables.';\n",
              "          element.innerHTML = '';\n",
              "          dataTable['output_type'] = 'display_data';\n",
              "          await google.colab.output.renderOutput(dataTable, element);\n",
              "          const docLink = document.createElement('div');\n",
              "          docLink.innerHTML = docLinkHtml;\n",
              "          element.appendChild(docLink);\n",
              "        }\n",
              "      </script>\n",
              "    </div>\n",
              "  </div>\n",
              "  "
            ]
          },
          "metadata": {},
          "execution_count": 76
        }
      ]
    },
    {
      "cell_type": "markdown",
      "source": [
        "**Producing plot of behaviour adoption**"
      ],
      "metadata": {
        "id": "g2LstlQdZ9Bo"
      }
    },
    {
      "cell_type": "code",
      "source": [
        "c02 = np.cumsum([250+54322,12052,1054,135,102,276,69,8,2])\n",
        "c025 = np.cumsum([250+21498,26766,13754,2312,428,87,21,16,2])\n",
        "c05 = np.cumsum([250+8463,527,16,12,0,0,0,0,0])\n",
        "d = [i for i in range (0,9)]\n",
        "plt.plot(d,c02,'b-',label='Threshold 0.2')\n",
        "plt.plot(d,c025,'r-',label='Threshold 0.3')\n",
        "plt.plot(d,c05,'g-',label='Threshold 0.45')\n",
        "plt.legend(loc=\"lower right\")\n",
        "plt.ylim((0,90000))\n",
        "plt.show()\n",
        "\n",
        "plt.plot( [i for i in range(0,len(c))],c,'r-',label='Adoption each step')\n",
        "plt.legend(loc=\"upper right\")\n",
        "plt.show()\n",
        "plt.plot( [i for i in range(0,len(c))],np.cumsum(c),'r-',label='Threshold 0.4')\n",
        "plt.legend(loc=\"upper right\")\n",
        "plt.ylim((0,90000))\n",
        "plt.show()"
      ],
      "metadata": {
        "colab": {
          "base_uri": "https://localhost:8080/",
          "height": 769
        },
        "id": "A3qtZJXOaAt2",
        "outputId": "32a0fc1b-639d-4834-f880-e08647473811"
      },
      "execution_count": null,
      "outputs": [
        {
          "output_type": "display_data",
          "data": {
            "text/plain": [
              "<Figure size 432x288 with 1 Axes>"
            ],
            "image/png": "[encoded data removed]"
          },
          "metadata": {
            "needs_background": "light"
          }
        },
        {
          "output_type": "display_data",
          "data": {
            "text/plain": [
              "<Figure size 432x288 with 1 Axes>"
            ],
            "image/png": "[encoded data removed]"
          },
          "metadata": {
            "needs_background": "light"
          }
        },
        {
          "output_type": "display_data",
          "data": {
            "text/plain": [
              "<Figure size 432x288 with 1 Axes>"
            ],
            "image/png": "[encoded data removed]"
          },
          "metadata": {
            "needs_background": "light"
          }
        }
      ]
    },
    {
      "cell_type": "markdown",
      "source": [
        "**Predicting the trustability of new node**"
      ],
      "metadata": {
        "id": "9VLCrvDxeDoq"
      }
    },
    {
      "cell_type": "code",
      "source": [
        "import warnings\n",
        "warnings.filterwarnings(\"ignore\")"
      ],
      "metadata": {
        "id": "RuzB2f5eJTjv"
      },
      "execution_count": null,
      "outputs": []
    },
    {
      "cell_type": "code",
      "source": [
        "import random\n",
        "#temp_graph=nx.Graph()\n",
        "n=graph.number_of_nodes()\n",
        "to_node=n+1\n",
        "for i in range(7):\n",
        "  from_node=random.randrange(n)\n",
        "  wei=random.choice([1,-1])\n",
        "  graph.add_edges_from([(from_node, to_node)],weight=wei)\n",
        "  epi_csv=epi_csv.append({'From':from_node,'To':to_node,'Weight':wei},ignore_index = True)\n",
        "  #df = df.append(df2, ignore_index = True)\n",
        "  #graph.add_edges_from([(row[0],row[1])],weight = row[2])"
      ],
      "metadata": {
        "id": "6nQsipVgA5K2"
      },
      "execution_count": null,
      "outputs": []
    },
    {
      "cell_type": "code",
      "source": [
        "print('Number of nodes:',graph.number_of_nodes())\n",
        "print('Number of edges:',graph.number_of_edges())"
      ],
      "metadata": {
        "colab": {
          "base_uri": "https://localhost:8080/"
        },
        "id": "-Kd1EncDEKxH",
        "outputId": "beef9dc2-afae-48fd-b9f6-cbabae01acba"
      },
      "execution_count": null,
      "outputs": [
        {
          "output_type": "stream",
          "name": "stdout",
          "text": [
            "Number of nodes: 131830\n",
            "Number of edges: 841386\n"
          ]
        }
      ]
    },
    {
      "cell_type": "code",
      "source": [
        "# Positive and negative edges\n",
        "Stats = pd.DataFrame(graph.out_degree(),columns=['From','Outdegree']).sort_values('From')\n",
        "Stats_2 =  pd.DataFrame(graph.in_degree(),columns=['To','Indegree']).sort_values('To')\n",
        "b= epi_csv.groupby('From',as_index=False)[['Weight']].sum().sort_values('From')\n",
        "c= epi_csv.groupby('To',as_index=False)[['Weight']].sum().sort_values('To')\n",
        "Stats = Stats.merge(b,on='From',how='left')\n",
        "Stats_2 = Stats_2.merge(c,on='To',how='left')\n",
        "Stats['Pos_out'] = (  Stats['Outdegree'] + Stats['Weight']  )/2\n",
        "Stats['Neg_out'] = (  Stats['Outdegree'] - Stats['Weight']  )/2\n",
        "Stats_2['Pos_in']= (Stats_2['Indegree']  + Stats_2['Weight'])/2\n",
        "Stats_2['Neg_in']= (Stats_2['Indegree']  - Stats_2['Weight'])/2\n",
        "Stats = pd.merge(Stats,Stats_2,left_on='From', right_on='To').drop('To', axis=1)\n",
        "Stats = Stats.drop(['Weight_x','Weight_y'],axis=1)\n",
        "Stats.fillna(0,inplace=True)\n",
        "Stats.tail()"
      ],
      "metadata": {
        "colab": {
          "base_uri": "https://localhost:8080/",
          "height": 206
        },
        "id": "aNXPbc0_DXaK",
        "outputId": "2a0eb32e-2a50-4924-8740-c0f9597664df"
      },
      "execution_count": null,
      "outputs": [
        {
          "output_type": "execute_result",
          "data": {
            "text/plain": [
              "          From  Outdegree  Pos_out  Neg_out  Indegree  Pos_in  Neg_in\n",
              "131825  131825          1      1.0      0.0         0     0.0     0.0\n",
              "131826  131826          0      0.0      0.0         1     1.0     0.0\n",
              "131827  131827          1      1.0      0.0         0     0.0     0.0\n",
              "131828  131829          0      0.0      0.0         7     3.0     4.0\n",
              "131829  131830          0      0.0      0.0         7     3.0     4.0"
            ],
            "text/html": [
              "\n",
              "  <div id=\"df-004dc64e-3609-48ff-a862-c36eba13a118\">\n",
              "    <div class=\"colab-df-container\">\n",
              "      <div>\n",
              "<style scoped>\n",
              "    .dataframe tbody tr th:only-of-type {\n",
              "        vertical-align: middle;\n",
              "    }\n",
              "\n",
              "    .dataframe tbody tr th {\n",
              "        vertical-align: top;\n",
              "    }\n",
              "\n",
              "    .dataframe thead th {\n",
              "        text-align: right;\n",
              "    }\n",
              "</style>\n",
              "<table border=\"1\" class=\"dataframe\">\n",
              "  <thead>\n",
              "    <tr style=\"text-align: right;\">\n",
              "      <th></th>\n",
              "      <th>From</th>\n",
              "      <th>Outdegree</th>\n",
              "      <th>Pos_out</th>\n",
              "      <th>Neg_out</th>\n",
              "      <th>Indegree</th>\n",
              "      <th>Pos_in</th>\n",
              "      <th>Neg_in</th>\n",
              "    </tr>\n",
              "  </thead>\n",
              "  <tbody>\n",
              "    <tr>\n",
              "      <th>131825</th>\n",
              "      <td>131825</td>\n",
              "      <td>1</td>\n",
              "      <td>1.0</td>\n",
              "      <td>0.0</td>\n",
              "      <td>0</td>\n",
              "      <td>0.0</td>\n",
              "      <td>0.0</td>\n",
              "    </tr>\n",
              "    <tr>\n",
              "      <th>131826</th>\n",
              "      <td>131826</td>\n",
              "      <td>0</td>\n",
              "      <td>0.0</td>\n",
              "      <td>0.0</td>\n",
              "      <td>1</td>\n",
              "      <td>1.0</td>\n",
              "      <td>0.0</td>\n",
              "    </tr>\n",
              "    <tr>\n",
              "      <th>131827</th>\n",
              "      <td>131827</td>\n",
              "      <td>1</td>\n",
              "      <td>1.0</td>\n",
              "      <td>0.0</td>\n",
              "      <td>0</td>\n",
              "      <td>0.0</td>\n",
              "      <td>0.0</td>\n",
              "    </tr>\n",
              "    <tr>\n",
              "      <th>131828</th>\n",
              "      <td>131829</td>\n",
              "      <td>0</td>\n",
              "      <td>0.0</td>\n",
              "      <td>0.0</td>\n",
              "      <td>7</td>\n",
              "      <td>3.0</td>\n",
              "      <td>4.0</td>\n",
              "    </tr>\n",
              "    <tr>\n",
              "      <th>131829</th>\n",
              "      <td>131830</td>\n",
              "      <td>0</td>\n",
              "      <td>0.0</td>\n",
              "      <td>0.0</td>\n",
              "      <td>7</td>\n",
              "      <td>3.0</td>\n",
              "      <td>4.0</td>\n",
              "    </tr>\n",
              "  </tbody>\n",
              "</table>\n",
              "</div>\n",
              "      <button class=\"colab-df-convert\" onclick=\"convertToInteractive('df-004dc64e-3609-48ff-a862-c36eba13a118')\"\n",
              "              title=\"Convert this dataframe to an interactive table.\"\n",
              "              style=\"display:none;\">\n",
              "        \n",
              "  <svg xmlns=\"http://www.w3.org/2000/svg\" height=\"24px\"viewBox=\"0 0 24 24\"\n",
              "       width=\"24px\">\n",
              "    <path d=\"M0 0h24v24H0V0z\" fill=\"none\"/>\n",
              "    <path d=\"M18.56 5.44l.94 2.06.94-2.06 2.06-.94-2.06-.94-.94-2.06-.94 2.06-2.06.94zm-11 1L8.5 8.5l.94-2.06 2.06-.94-2.06-.94L8.5 2.5l-.94 2.06-2.06.94zm10 10l.94 2.06.94-2.06 2.06-.94-2.06-.94-.94-2.06-.94 2.06-2.06.94z\"/><path d=\"M17.41 7.96l-1.37-1.37c-.4-.4-.92-.59-1.43-.59-.52 0-1.04.2-1.43.59L10.3 9.45l-7.72 7.72c-.78.78-.78 2.05 0 2.83L4 21.41c.39.39.9.59 1.41.59.51 0 1.02-.2 1.41-.59l7.78-7.78 2.81-2.81c.8-.78.8-2.07 0-2.86zM5.41 20L4 18.59l7.72-7.72 1.47 1.35L5.41 20z\"/>\n",
              "  </svg>\n",
              "      </button>\n",
              "      \n",
              "  <style>\n",
              "    .colab-df-container {\n",
              "      display:flex;\n",
              "      flex-wrap:wrap;\n",
              "      gap: 12px;\n",
              "    }\n",
              "\n",
              "    .colab-df-convert {\n",
              "      background-color: #E8F0FE;\n",
              "      border: none;\n",
              "      border-radius: 50%;\n",
              "      cursor: pointer;\n",
              "      display: none;\n",
              "      fill: #1967D2;\n",
              "      height: 32px;\n",
              "      padding: 0 0 0 0;\n",
              "      width: 32px;\n",
              "    }\n",
              "\n",
              "    .colab-df-convert:hover {\n",
              "      background-color: #E2EBFA;\n",
              "      box-shadow: 0px 1px 2px rgba(60, 64, 67, 0.3), 0px 1px 3px 1px rgba(60, 64, 67, 0.15);\n",
              "      fill: #174EA6;\n",
              "    }\n",
              "\n",
              "    [theme=dark] .colab-df-convert {\n",
              "      background-color: #3B4455;\n",
              "      fill: #D2E3FC;\n",
              "    }\n",
              "\n",
              "    [theme=dark] .colab-df-convert:hover {\n",
              "      background-color: #434B5C;\n",
              "      box-shadow: 0px 1px 3px 1px rgba(0, 0, 0, 0.15);\n",
              "      filter: drop-shadow(0px 1px 2px rgba(0, 0, 0, 0.3));\n",
              "      fill: #FFFFFF;\n",
              "    }\n",
              "  </style>\n",
              "\n",
              "      <script>\n",
              "        const buttonEl =\n",
              "          document.querySelector('#df-004dc64e-3609-48ff-a862-c36eba13a118 button.colab-df-convert');\n",
              "        buttonEl.style.display =\n",
              "          google.colab.kernel.accessAllowed ? 'block' : 'none';\n",
              "\n",
              "        async function convertToInteractive(key) {\n",
              "          const element = document.querySelector('#df-004dc64e-3609-48ff-a862-c36eba13a118');\n",
              "          const dataTable =\n",
              "            await google.colab.kernel.invokeFunction('convertToInteractive',\n",
              "                                                     [key], {});\n",
              "          if (!dataTable) return;\n",
              "\n",
              "          const docLinkHtml = 'Like what you see? Visit the ' +\n",
              "            '<a target=\"_blank\" href=https://colab.research.google.com/notebooks/data_table.ipynb>data table notebook</a>'\n",
              "            + ' to learn more about interactive tables.';\n",
              "          element.innerHTML = '';\n",
              "          dataTable['output_type'] = 'display_data';\n",
              "          await google.colab.output.renderOutput(dataTable, element);\n",
              "          const docLink = document.createElement('div');\n",
              "          docLink.innerHTML = docLinkHtml;\n",
              "          element.appendChild(docLink);\n",
              "        }\n",
              "      </script>\n",
              "    </div>\n",
              "  </div>\n",
              "  "
            ]
          },
          "metadata": {},
          "execution_count": 50
        }
      ]
    },
    {
      "cell_type": "code",
      "source": [
        "pos=Stats.iloc[len(Stats.index)-1,5]\n",
        "neg=Stats.iloc[len(Stats.index)-1,6]\n",
        "if(pos-neg>=2):\n",
        "  print(\"Node \",Stats.iloc[len(Stats.index)-1,0],\" is trusted\")\n",
        "else:\n",
        "  print(\"Node \",Stats.iloc[len(Stats.index)-1,0],\" is not trusted\")"
      ],
      "metadata": {
        "colab": {
          "base_uri": "https://localhost:8080/"
        },
        "id": "vj2ZCyESG2jG",
        "outputId": "f9d3ebbd-17e6-4deb-f6d5-11a991e63dfb"
      },
      "execution_count": null,
      "outputs": [
        {
          "output_type": "stream",
          "name": "stdout",
          "text": [
            "Node  131830  is not trusted\n"
          ]
        }
      ]
    },
    {
      "cell_type": "code",
      "source": [],
      "metadata": {
        "id": "nqylzfYOJdv3"
      },
      "execution_count": null,
      "outputs": []
    }
  ]
}